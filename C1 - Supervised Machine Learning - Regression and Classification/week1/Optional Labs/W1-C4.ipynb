{
 "cells": [
  {
   "cell_type": "code",
   "execution_count": 1,
   "id": "c8736abd",
   "metadata": {},
   "outputs": [],
   "source": [
    "import numpy as np\n",
    "%matplotlib widget\n",
    "import matplotlib.pyplot as plt\n",
    "from ipywidgets import interact\n",
    "plt.style.use('./deeplearning.mplstyle')"
   ]
  },
  {
   "cell_type": "code",
   "execution_count": 2,
   "id": "8890ff36",
   "metadata": {},
   "outputs": [],
   "source": [
    "x_train = np.array([1.0, 2.0])           #(size in 1000 square feet)\n",
    "y_train = np.array([300.0, 500.0])  "
   ]
  },
  {
   "cell_type": "code",
   "execution_count": 3,
   "id": "3c3a9752",
   "metadata": {},
   "outputs": [],
   "source": [
    "def compute_cost(x, y, w, b): \n",
    "    \"\"\"\n",
    "    Computes the cost function for linear regression.\n",
    "    \n",
    "    Args:\n",
    "      x (ndarray (m,)): Data, m examples \n",
    "      y (ndarray (m,)): target values\n",
    "      w,b (scalar)    : model parameters  \n",
    "    \n",
    "    Returns\n",
    "        total_cost (float): The cost of using w,b as the parameters for linear regression\n",
    "               to fit the data points in x and y\n",
    "    \"\"\"\n",
    "    # number of training examples\n",
    "    m = x.shape[0] \n",
    "    \n",
    "    cost_sum = 0 \n",
    "    for i in range(m): \n",
    "        f_wb = w * x[i] + b   \n",
    "        cost = (f_wb - y[i]) ** 2  \n",
    "        cost_sum = cost_sum + cost  \n",
    "    total_cost = (1 / (2 * m)) * cost_sum  \n",
    "\n",
    "    return total_cost"
   ]
  },
  {
   "cell_type": "code",
   "execution_count": 4,
   "id": "801e92af",
   "metadata": {},
   "outputs": [],
   "source": [
    "def plt_house_x(X, y,f_wb=None, ax=None):\n",
    "    ''' plot house with aXis '''\n",
    "    if not ax:\n",
    "        fig, ax = plt.subplots(1,1)\n",
    "    ax.scatter(X, y, marker='x', c='r', label=\"Actual Value\")\n",
    "\n",
    "    ax.set_title(\"Housing Prices\")\n",
    "    ax.set_ylabel('Price (in 1000s of dollars)')\n",
    "    ax.set_xlabel(f'Size (1000 sqft)')\n",
    "    if f_wb is not None:\n",
    "        ax.plot(X, f_wb,  c='b', label=\"Our Prediction\")\n",
    "    ax.legend()"
   ]
  },
  {
   "cell_type": "code",
   "execution_count": 5,
   "id": "3ea820d8",
   "metadata": {},
   "outputs": [],
   "source": [
    "def mk_cost_lines(x,y,w,b, ax):\n",
    "    ''' makes vertical cost lines'''\n",
    "    cstr = \"cost = (1/m)*(\"\n",
    "    ctot = 0\n",
    "    label = 'cost for point'\n",
    "    addedbreak = False\n",
    "    for p in zip(x,y):\n",
    "        f_wb_p = w*p[0]+b\n",
    "        c_p = ((f_wb_p - p[1])**2)/2\n",
    "        c_p_txt = c_p\n",
    "        ax.vlines(p[0], p[1],f_wb_p, lw=3, color='purple', ls='dotted', label=label)\n",
    "        label='' #just one\n",
    "        cxy = [p[0], p[1] + (f_wb_p-p[1])/2]\n",
    "        ax.annotate(f'{c_p_txt:0.0f}', xy=cxy, xycoords='data',color='purple',\n",
    "            xytext=(5, 0), textcoords='offset points')\n",
    "        cstr += f\"{c_p_txt:0.0f} +\"\n",
    "        if len(cstr) > 38 and addedbreak is False:\n",
    "            cstr += \"\\n\"\n",
    "            addedbreak = True\n",
    "        ctot += c_p\n",
    "    ctot = ctot/(len(x))\n",
    "    cstr = cstr[:-1] + f\") = {ctot:0.0f}\"\n",
    "    ax.text(0.5,0.02,cstr, transform=ax.transAxes, color='red')"
   ]
  },
  {
   "cell_type": "code",
   "execution_count": 6,
   "id": "9807cb19",
   "metadata": {},
   "outputs": [],
   "source": [
    "def plt_intuition(x_train, y_train):\n",
    "\n",
    "    w_range = np.array([200-200,200+200])\n",
    "    tmp_b = 100\n",
    "\n",
    "    w_array = np.arange(*w_range, 5)\n",
    "    cost = np.zeros_like(w_array)\n",
    "    for i in range(len(w_array)):\n",
    "        tmp_w = w_array[i]\n",
    "        cost[i] = compute_cost(x_train, y_train, tmp_w, tmp_b)\n",
    "\n",
    "    @interact(w=(*w_range,10),continuous_update=False)\n",
    "    def func( w=150):\n",
    "        f_wb = np.dot(x_train, w) + tmp_b\n",
    "\n",
    "        fig, ax = plt.subplots(1, 2, constrained_layout=True, figsize=(8,4))\n",
    "        fig.canvas.toolbar_position = 'bottom'\n",
    "\n",
    "        mk_cost_lines(x_train, y_train, w, tmp_b, ax[0])\n",
    "        plt_house_x(x_train, y_train, f_wb=f_wb, ax=ax[0])\n",
    "        \n",
    "        ax[1].plot(w_array, cost)\n",
    "        \n",
    "        cur_cost = compute_cost(x_train, y_train, w, tmp_b)\n",
    "        ax[1].scatter(w,cur_cost, s=10, color='r', zorder= 10, label= f\"cost at w={w}\")\n",
    "        ax[1].hlines(cur_cost, ax[1].get_xlim()[0],w, lw=4, color='purple', ls='dotted')\n",
    "        ax[1].vlines(w, ax[1].get_ylim()[0],cur_cost, lw=4, color='purple', ls='dotted')\n",
    "        ax[1].set_title(\"Cost vs. w, (b fixed at 100)\")\n",
    "        ax[1].set_ylabel('Cost')\n",
    "        ax[1].set_xlabel('w')\n",
    "        ax[1].legend(loc='upper center')\n",
    "        fig.suptitle(f\"Minimize Cost: Current Cost = {cur_cost:0.0f}\", fontsize=12)\n",
    "        plt.show()\n"
   ]
  },
  {
   "cell_type": "code",
   "execution_count": 7,
   "id": "5f1ce21c",
   "metadata": {},
   "outputs": [],
   "source": [
    "plt_intuition(x_train,y_train)"
   ]
  },
  {
   "cell_type": "code",
   "execution_count": null,
   "id": "57b85d6b",
   "metadata": {},
   "outputs": [],
   "source": []
  }
 ],
 "metadata": {
  "kernelspec": {
   "display_name": "Python 3 (ipykernel)",
   "language": "python",
   "name": "python3"
  },
  "language_info": {
   "codemirror_mode": {
    "name": "ipython",
    "version": 3
   },
   "file_extension": ".py",
   "mimetype": "text/x-python",
   "name": "python",
   "nbconvert_exporter": "python",
   "pygments_lexer": "ipython3",
   "version": "3.10.11"
  }
 },
 "nbformat": 4,
 "nbformat_minor": 5
}
