{
 "cells": [
  {
   "cell_type": "code",
   "execution_count": null,
   "id": "4cbd0e49",
   "metadata": {},
   "outputs": [],
   "source": [
    "# coding=utf-8\n",
    " \n",
    " \n",
    "import numpy as np\n",
    "import matplotlib.pyplot as plt\n",
    " \n",
    "fig = plt.figure()\n",
    "ax = fig.add_subplot(111, polar=True)\n",
    "r = np.arange(0,1,0.001)\n",
    "theta = 2*2*np.pi*r\n",
    "line, = ax.plot(theta, r, color='#ee8d18', lw=3)\n",
    " \n",
    "ind = 800\n",
    "thisr, thistheta = r[ind], theta[ind]\n",
    "ax.plot([thistheta], [thisr], 'o')\n",
    "ax.annotate('a polar annotation',\n",
    "            xy=(thistheta, thisr),  # theta, radius\n",
    "            xytext=(0.05, 0.05),    # fraction, fraction\n",
    "            textcoords='figure fraction',\n",
    "            #| 'figure fraction' | 0,0 是图形左下角，1,1 是右上角 |\n",
    "            arrowprops=dict(facecolor='black', shrink=0.05),\n",
    "            horizontalalignment='left',\n",
    "            verticalalignment='bottom',\n",
    "            )\n"
   ]
  }
 ],
 "metadata": {
  "kernelspec": {
   "display_name": "Python 3 (ipykernel)",
   "language": "python",
   "name": "python3"
  },
  "language_info": {
   "codemirror_mode": {
    "name": "ipython",
    "version": 3
   },
   "file_extension": ".py",
   "mimetype": "text/x-python",
   "name": "python",
   "nbconvert_exporter": "python",
   "pygments_lexer": "ipython3",
   "version": "3.10.11"
  }
 },
 "nbformat": 4,
 "nbformat_minor": 5
}
